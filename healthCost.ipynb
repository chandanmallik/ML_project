{
 "cells": [
  {
   "cell_type": "markdown",
   "metadata": {},
   "source": [
    "1. importing the libary"
   ]
  },
  {
   "cell_type": "code",
   "execution_count": 56,
   "metadata": {},
   "outputs": [],
   "source": [
    "import pandas as pd\n",
    "import numpy as np\n"
   ]
  },
  {
   "cell_type": "markdown",
   "metadata": {},
   "source": [
    "2. uploading the csv file and diving the part that will use in predition parameter ie. X \n",
    "and Y as the predicted result."
   ]
  },
  {
   "cell_type": "code",
   "execution_count": 57,
   "metadata": {},
   "outputs": [],
   "source": [
    "dataset = pd.read_csv(\"insurance.csv\")\n",
    "x = dataset.iloc[:,:-1].values\n",
    "y = dataset.iloc[:,-1].values"
   ]
  },
  {
   "cell_type": "code",
   "execution_count": 58,
   "metadata": {},
   "outputs": [
    {
     "name": "stdout",
     "output_type": "stream",
     "text": [
      "<class 'pandas.core.frame.DataFrame'>\n",
      "RangeIndex: 1338 entries, 0 to 1337\n",
      "Data columns (total 7 columns):\n",
      " #   Column    Non-Null Count  Dtype  \n",
      "---  ------    --------------  -----  \n",
      " 0   age       1338 non-null   int64  \n",
      " 1   sex       1338 non-null   object \n",
      " 2   bmi       1338 non-null   float64\n",
      " 3   children  1338 non-null   int64  \n",
      " 4   smoker    1338 non-null   object \n",
      " 5   region    1338 non-null   object \n",
      " 6   charges   1338 non-null   float64\n",
      "dtypes: float64(2), int64(2), object(3)\n",
      "memory usage: 73.3+ KB\n"
     ]
    },
    {
     "data": {
      "text/html": [
       "<div>\n",
       "<style scoped>\n",
       "    .dataframe tbody tr th:only-of-type {\n",
       "        vertical-align: middle;\n",
       "    }\n",
       "\n",
       "    .dataframe tbody tr th {\n",
       "        vertical-align: top;\n",
       "    }\n",
       "\n",
       "    .dataframe thead th {\n",
       "        text-align: right;\n",
       "    }\n",
       "</style>\n",
       "<table border=\"1\" class=\"dataframe\">\n",
       "  <thead>\n",
       "    <tr style=\"text-align: right;\">\n",
       "      <th></th>\n",
       "      <th>age</th>\n",
       "      <th>bmi</th>\n",
       "      <th>children</th>\n",
       "      <th>charges</th>\n",
       "    </tr>\n",
       "  </thead>\n",
       "  <tbody>\n",
       "    <tr>\n",
       "      <th>count</th>\n",
       "      <td>1338.000000</td>\n",
       "      <td>1338.000000</td>\n",
       "      <td>1338.000000</td>\n",
       "      <td>1338.000000</td>\n",
       "    </tr>\n",
       "    <tr>\n",
       "      <th>mean</th>\n",
       "      <td>39.207025</td>\n",
       "      <td>30.663397</td>\n",
       "      <td>1.094918</td>\n",
       "      <td>13270.422265</td>\n",
       "    </tr>\n",
       "    <tr>\n",
       "      <th>std</th>\n",
       "      <td>14.049960</td>\n",
       "      <td>6.098187</td>\n",
       "      <td>1.205493</td>\n",
       "      <td>12110.011237</td>\n",
       "    </tr>\n",
       "    <tr>\n",
       "      <th>min</th>\n",
       "      <td>18.000000</td>\n",
       "      <td>15.960000</td>\n",
       "      <td>0.000000</td>\n",
       "      <td>1121.873900</td>\n",
       "    </tr>\n",
       "    <tr>\n",
       "      <th>25%</th>\n",
       "      <td>27.000000</td>\n",
       "      <td>26.296250</td>\n",
       "      <td>0.000000</td>\n",
       "      <td>4740.287150</td>\n",
       "    </tr>\n",
       "    <tr>\n",
       "      <th>50%</th>\n",
       "      <td>39.000000</td>\n",
       "      <td>30.400000</td>\n",
       "      <td>1.000000</td>\n",
       "      <td>9382.033000</td>\n",
       "    </tr>\n",
       "    <tr>\n",
       "      <th>75%</th>\n",
       "      <td>51.000000</td>\n",
       "      <td>34.693750</td>\n",
       "      <td>2.000000</td>\n",
       "      <td>16639.912515</td>\n",
       "    </tr>\n",
       "    <tr>\n",
       "      <th>max</th>\n",
       "      <td>64.000000</td>\n",
       "      <td>53.130000</td>\n",
       "      <td>5.000000</td>\n",
       "      <td>63770.428010</td>\n",
       "    </tr>\n",
       "  </tbody>\n",
       "</table>\n",
       "</div>"
      ],
      "text/plain": [
       "               age          bmi     children       charges\n",
       "count  1338.000000  1338.000000  1338.000000   1338.000000\n",
       "mean     39.207025    30.663397     1.094918  13270.422265\n",
       "std      14.049960     6.098187     1.205493  12110.011237\n",
       "min      18.000000    15.960000     0.000000   1121.873900\n",
       "25%      27.000000    26.296250     0.000000   4740.287150\n",
       "50%      39.000000    30.400000     1.000000   9382.033000\n",
       "75%      51.000000    34.693750     2.000000  16639.912515\n",
       "max      64.000000    53.130000     5.000000  63770.428010"
      ]
     },
     "execution_count": 58,
     "metadata": {},
     "output_type": "execute_result"
    }
   ],
   "source": [
    "# showing the data in the data that will use for the predition\n",
    "\n",
    "pd.DataFrame(x)\n",
    "# showing the data types with its coloum name\n",
    "dataset.info()\n",
    "# showinf the mean , median , min etc of the data\n",
    "dataset.describe()\n"
   ]
  },
  {
   "cell_type": "code",
   "execution_count": 59,
   "metadata": {},
   "outputs": [
    {
     "data": {
      "text/plain": [
       "count     1338.000000\n",
       "mean     13270.422265\n",
       "std      12110.011237\n",
       "min       1121.873900\n",
       "25%       4740.287150\n",
       "50%       9382.033000\n",
       "75%      16639.912515\n",
       "max      63770.428010\n",
       "Name: charges, dtype: float64"
      ]
     },
     "execution_count": 59,
     "metadata": {},
     "output_type": "execute_result"
    }
   ],
   "source": [
    "dataset[\"charges\"].describe()"
   ]
  },
  {
   "cell_type": "markdown",
   "metadata": {},
   "source": [
    "3. data preprocess \n",
    "converting the male and female into 0 ,1 "
   ]
  },
  {
   "cell_type": "code",
   "execution_count": 60,
   "metadata": {},
   "outputs": [],
   "source": [
    "from sklearn.preprocessing import LabelEncoder\n",
    "Le = LabelEncoder()\n",
    "x[:,1] = Le.fit_transform(x[:,1])\n"
   ]
  },
  {
   "cell_type": "code",
   "execution_count": 61,
   "metadata": {},
   "outputs": [
    {
     "name": "stdout",
     "output_type": "stream",
     "text": [
      "[[19 0 27.9 0 'yes' 'southwest']\n",
      " [18 1 33.77 1 'no' 'southeast']\n",
      " [28 1 33.0 3 'no' 'southeast']\n",
      " ...\n",
      " [18 0 36.85 0 'no' 'southeast']\n",
      " [21 0 25.8 0 'no' 'southwest']\n",
      " [61 0 29.07 0 'yes' 'northwest']]\n"
     ]
    }
   ],
   "source": [
    "# showing the newly changed x\n",
    "print(x)"
   ]
  },
  {
   "cell_type": "code",
   "execution_count": 62,
   "metadata": {},
   "outputs": [],
   "source": [
    "# conventing the yes , no into 1,0\n",
    " \n",
    "x[:,4] = Le.fit_transform(x[:,4])\n"
   ]
  },
  {
   "cell_type": "code",
   "execution_count": 63,
   "metadata": {},
   "outputs": [
    {
     "name": "stdout",
     "output_type": "stream",
     "text": [
      "[[19 0 27.9 0 1 'southwest']\n",
      " [18 1 33.77 1 0 'southeast']\n",
      " [28 1 33.0 3 0 'southeast']\n",
      " ...\n",
      " [18 0 36.85 0 0 'southeast']\n",
      " [21 0 25.8 0 0 'southwest']\n",
      " [61 0 29.07 0 1 'northwest']]\n"
     ]
    }
   ],
   "source": [
    "print(x)"
   ]
  },
  {
   "cell_type": "markdown",
   "metadata": {},
   "source": [
    "4. pre processing with the the location like south west east ..."
   ]
  },
  {
   "cell_type": "code",
   "execution_count": 64,
   "metadata": {},
   "outputs": [],
   "source": [
    "from sklearn.preprocessing import OneHotEncoder\n",
    "from sklearn.compose import ColumnTransformer\n",
    "ct = ColumnTransformer(transformers=[('encoding',OneHotEncoder(),[5])],remainder='passthrough')\n",
    "x = np.array(ct.fit_transform(x))"
   ]
  },
  {
   "cell_type": "markdown",
   "metadata": {},
   "source": []
  },
  {
   "cell_type": "code",
   "execution_count": 65,
   "metadata": {},
   "outputs": [
    {
     "name": "stdout",
     "output_type": "stream",
     "text": [
      "[[0.0 0.0 0.0 ... 27.9 0 1]\n",
      " [0.0 0.0 1.0 ... 33.77 1 0]\n",
      " [0.0 0.0 1.0 ... 33.0 3 0]\n",
      " ...\n",
      " [0.0 0.0 1.0 ... 36.85 0 0]\n",
      " [0.0 0.0 0.0 ... 25.8 0 0]\n",
      " [0.0 1.0 0.0 ... 29.07 0 1]]\n"
     ]
    }
   ],
   "source": [
    "# printing the x values \n",
    "print(x)"
   ]
  },
  {
   "cell_type": "markdown",
   "metadata": {},
   "source": [
    "5. splitong the values into the train and test test"
   ]
  },
  {
   "cell_type": "code",
   "execution_count": 66,
   "metadata": {},
   "outputs": [],
   "source": [
    "\n",
    "from sklearn.model_selection import train_test_split\n",
    "\n",
    "x_train,x_test,y_train,y_test = train_test_split(x,y,test_size = 0.2,random_state=0) "
   ]
  },
  {
   "cell_type": "markdown",
   "metadata": {},
   "source": [
    "6. traing of the training sets"
   ]
  },
  {
   "cell_type": "code",
   "execution_count": 67,
   "metadata": {},
   "outputs": [
    {
     "data": {
      "text/plain": [
       "RandomForestRegressor(n_estimators=10, random_state=0)"
      ]
     },
     "execution_count": 67,
     "metadata": {},
     "output_type": "execute_result"
    }
   ],
   "source": [
    "\n",
    "\n",
    "from sklearn.ensemble import RandomForestRegressor \n",
    "le = RandomForestRegressor(n_estimators=10,random_state=0)\n",
    "le.fit(x_train,y_train)"
   ]
  },
  {
   "cell_type": "markdown",
   "metadata": {},
   "source": [
    "7. predicting the values of test set  "
   ]
  },
  {
   "cell_type": "code",
   "execution_count": 68,
   "metadata": {},
   "outputs": [
    {
     "name": "stdout",
     "output_type": "stream",
     "text": [
      "[[ 9724.53 11812.3 ]\n",
      " [ 8547.69  8487.68]\n",
      " [45702.02 44973.46]\n",
      " [12950.07 13294.77]\n",
      " [ 9644.25  9306.01]\n",
      " [ 4500.34  9930.7 ]\n",
      " [ 2198.19  2031.53]\n",
      " [11436.74 10563.36]\n",
      " [ 7537.16  7210.22]\n",
      " [ 5425.02  8008.23]\n",
      " [ 6753.04  6598.43]\n",
      " [10493.95 15902.45]\n",
      " [ 7337.75  9720.64]\n",
      " [ 4185.1   6948.49]\n",
      " [18310.74 23600.31]\n",
      " [10702.64 13997.1 ]\n",
      " [12523.6  13509.14]\n",
      " [ 3490.55  8706.11]\n",
      " [ 6457.84  6593.29]\n",
      " [33475.82 34043.87]\n",
      " [23967.38 23612.29]\n",
      " [12643.38 12546.88]\n",
      " [23045.57 13588.75]\n",
      " [23065.42 27910.82]\n",
      " [ 1674.63  1558.35]\n",
      " [ 4667.61 11156.06]\n",
      " [ 3732.63 10384.21]\n",
      " [ 7682.67  7137.49]\n",
      " [ 3756.62  3779.35]\n",
      " [ 8413.46 10536.38]\n",
      " [ 8059.68  7442.53]\n",
      " [48970.25 48502.61]\n",
      " [12979.36 14026.01]\n",
      " [20630.28 10427.79]\n",
      " [14571.89 15464.59]\n",
      " [ 4137.52  3881.92]\n",
      " [ 8347.16  8362.  ]\n",
      " [51194.56 37406.27]\n",
      " [40003.33 40938.03]\n",
      " [ 1880.49  2814.59]\n",
      " [ 5458.05  9419.51]\n",
      " [ 2867.12  2941.16]\n",
      " [20149.32 20534.03]\n",
      " [47496.49 47337.51]\n",
      " [36149.48 37046.89]\n",
      " [26018.95  7664.52]\n",
      " [19749.38 13997.1 ]\n",
      " [ 6940.91  6738.33]\n",
      " [ 4718.2   6328.06]\n",
      " [22192.44 13471.16]\n",
      " [ 2899.49  2673.56]\n",
      " [18838.7  15327.27]\n",
      " [23568.27 26784.15]\n",
      " [46255.11 46154.52]\n",
      " [24227.34 11732.33]\n",
      " [ 3268.85  5949.2 ]\n",
      " [ 2322.62  6838.49]\n",
      " [ 8827.21 13581.48]\n",
      " [14478.33  8791.7 ]\n",
      " [13112.6  21327.79]\n",
      " [ 1253.94  1302.39]\n",
      " [46718.16 47106.51]\n",
      " [13919.82 18433.76]\n",
      " [ 9630.4   9948.2 ]\n",
      " [10736.87 14799.18]\n",
      " [ 9880.07  9694.28]\n",
      " [32548.34 34000.67]\n",
      " [38746.36 45486.33]\n",
      " [ 3180.51  9232.68]\n",
      " [ 8162.72  9268.48]\n",
      " [13041.92 14867.59]\n",
      " [11554.22 11378.67]\n",
      " [16232.85 17711.71]\n",
      " [13887.97 13641.28]\n",
      " [13012.21 12900.03]\n",
      " [13217.09 16464.89]\n",
      " [ 7147.1   9273.84]\n",
      " [ 7731.43 13763.47]\n",
      " [20296.86 19691.51]\n",
      " [47403.88 47457.21]\n",
      " [11658.38 11560.03]\n",
      " [45863.21 45497.53]\n",
      " [ 2055.32  1922.51]\n",
      " [ 7441.05  9519.52]\n",
      " [41034.22 39868.3 ]\n",
      " [18972.49 19411.7 ]\n",
      " [ 3410.32  3247.78]\n",
      " [ 2699.57  4107.23]\n",
      " [12333.83 25229.93]\n",
      " [36837.47 37709.47]\n",
      " [ 6334.34 16465.82]\n",
      " [10214.64 14421.2 ]\n",
      " [17878.9   2809.13]\n",
      " [ 8515.76 16218.07]\n",
      " [ 4518.83 10251.28]\n",
      " [ 5148.55 10226.55]\n",
      " [42303.69 42928.19]\n",
      " [38998.55 47837.56]\n",
      " [ 5327.4   7387.55]\n",
      " [10602.39 10793.41]\n",
      " [ 1824.29  3369.29]\n",
      " [ 5377.46  6146.38]\n",
      " [ 4349.46  7600.33]\n",
      " [37742.58 38616.38]\n",
      " [32787.46 27246.95]\n",
      " [ 3353.47  3556.73]\n",
      " [10577.09 11056.66]\n",
      " [ 3556.92  6471.18]\n",
      " [11944.59 11420.69]\n",
      " [52590.83 46456.23]\n",
      " [12475.35 13734.5 ]\n",
      " [ 4266.17  7597.72]\n",
      " [ 9249.5   9197.84]\n",
      " [33732.69 34333.26]\n",
      " [48675.52 47849.69]\n",
      " [ 7729.65  7632.5 ]\n",
      " [ 1964.78  2895.01]\n",
      " [ 8444.47 15560.24]\n",
      " [12347.17 23477.33]\n",
      " [ 9301.89 13006.79]\n",
      " [42124.52 42428.59]\n",
      " [ 9991.04 15410.99]\n",
      " [14319.03 14018.31]\n",
      " [ 5428.73 11789.26]\n",
      " [ 7626.99 11489.41]\n",
      " [ 4906.41  4840.8 ]\n",
      " [23401.31 27485.67]\n",
      " [21098.55 25703.23]\n",
      " [48173.36 48566.12]\n",
      " [ 1917.32  1764.51]\n",
      " [ 8219.2  12860.82]\n",
      " [ 1725.55  1731.89]\n",
      " [ 5976.83  6021.96]\n",
      " [ 9361.33 11108.48]\n",
      " [22144.03 38099.84]\n",
      " [35491.64 38101.63]\n",
      " [19515.54 25677.76]\n",
      " [10107.22 12088.71]\n",
      " [23244.79 23415.15]\n",
      " [ 2789.06  2524.56]\n",
      " [ 2261.57  2151.48]\n",
      " [10594.5  13582.16]\n",
      " [ 9304.7   9083.09]\n",
      " [10435.07 10603.49]\n",
      " [ 4894.75  5187.44]\n",
      " [14313.85 13904.2 ]\n",
      " [28287.9  16577.39]\n",
      " [14426.07  3806.88]\n",
      " [ 1627.28  1628.58]\n",
      " [25517.11 10902.19]\n",
      " [ 6555.07  6916.11]\n",
      " [39611.76 38515.13]\n",
      " [ 9964.06 11302.11]\n",
      " [ 1720.35  7145.09]\n",
      " [ 2730.11  2492.42]\n",
      " [ 6500.24  8079.75]\n",
      " [ 2643.27  2624.79]\n",
      " [ 1719.44  3231.48]\n",
      " [11085.59 14366.48]\n",
      " [10115.01  9593.9 ]\n",
      " [ 4846.92  9587.6 ]\n",
      " [12982.87 13172.47]\n",
      " [28923.14 13023.05]\n",
      " [ 9391.35  8969.53]\n",
      " [ 4544.23  4936.84]\n",
      " [17128.43  9681.58]\n",
      " [13844.51 16196.5 ]\n",
      " [ 6113.23 12472.74]\n",
      " [ 4441.21  4374.42]\n",
      " [ 1633.96  1692.28]\n",
      " [ 4058.71 10161.65]\n",
      " [ 4435.09  4565.01]\n",
      " [ 8310.84 11310.48]\n",
      " [ 1986.93  2134.6 ]\n",
      " [ 4260.74  8547.45]\n",
      " [ 4504.66  5074.01]\n",
      " [ 4428.89  6548.42]\n",
      " [ 6117.49  6314.74]\n",
      " [30184.94 28295.31]\n",
      " [ 1708.93  1805.22]\n",
      " [11187.66 14391.92]\n",
      " [ 6796.86  6696.3 ]\n",
      " [11356.66 11551.75]\n",
      " [ 2498.41  7439.55]\n",
      " [27375.9   6218.02]\n",
      " [28101.33 28404.62]\n",
      " [ 2254.8   1991.84]\n",
      " [ 2597.78  2106.3 ]\n",
      " [14692.67 14000.22]\n",
      " [10370.91 14814.63]\n",
      " [41097.16 41254.83]\n",
      " [ 3981.98  4159.64]\n",
      " [ 5472.45  5108.11]\n",
      " [21223.68 25659.46]\n",
      " [ 2534.39  2520.24]\n",
      " [ 1972.95  2484.27]\n",
      " [ 6406.41  8081.5 ]\n",
      " [ 6551.75 16035.25]\n",
      " [ 4058.12  4459.4 ]\n",
      " [ 4243.59  5144.16]\n",
      " [11512.41 13264.46]\n",
      " [46889.26 46206.91]\n",
      " [12268.63 14440.02]\n",
      " [19199.94 18851.69]\n",
      " [ 4433.39  7310.08]\n",
      " [42969.85 43320.5 ]\n",
      " [23241.47  9520.72]\n",
      " [ 9140.95 14671.72]\n",
      " [ 5836.52  5946.24]\n",
      " [ 1149.4   1145.73]\n",
      " [ 8765.25  8866.34]\n",
      " [14043.48 13636.97]\n",
      " [ 5312.17  4871.95]\n",
      " [10795.94  7023.  ]\n",
      " [ 6282.23  6690.25]\n",
      " [ 1969.61  6882.86]\n",
      " [ 6746.74  6779.03]\n",
      " [ 5354.07  6584.56]\n",
      " [14001.29 15965.5 ]\n",
      " [ 6877.98  8299.64]\n",
      " [ 6196.45  7898.41]\n",
      " [ 7986.48  7911.13]\n",
      " [ 8277.52 13017.86]\n",
      " [ 3206.49  7514.55]\n",
      " [11848.14 13677.88]\n",
      " [14210.54 13920.62]\n",
      " [12265.51 17155.61]\n",
      " [11837.16 11739.25]\n",
      " [ 6652.53  7434.4 ]\n",
      " [ 2137.65  2537.72]\n",
      " [ 1131.51  6770.48]\n",
      " [ 8342.91 10123.79]\n",
      " [12244.53 13108.65]\n",
      " [ 4561.19  7686.28]\n",
      " [17626.24  4424.88]\n",
      " [ 6875.96  7098.99]\n",
      " [ 9447.38 17700.72]\n",
      " [34254.05 34214.26]\n",
      " [ 6067.13  6130.39]\n",
      " [11729.68 14367.3 ]\n",
      " [ 5383.54  5885.86]\n",
      " [37465.34 36829.38]\n",
      " [ 7371.77  7121.76]\n",
      " [ 7325.05  7578.89]\n",
      " [ 8410.05 11607.32]\n",
      " [10461.98 11984.95]\n",
      " [ 3279.87  3667.59]\n",
      " [ 7727.25  7785.66]\n",
      " [ 2731.91  4759.31]\n",
      " [ 6858.48  9233.41]\n",
      " [19521.97 19102.57]\n",
      " [47305.31 46845.98]\n",
      " [ 3987.93  3966.42]\n",
      " [ 3238.44  6128.  ]\n",
      " [ 7323.73  4950.41]\n",
      " [ 1704.57  1685.95]\n",
      " [ 7445.92  7887.49]\n",
      " [ 1629.83  3146.6 ]\n",
      " [ 4877.98  5857.25]\n",
      " [ 3561.89  6970.35]\n",
      " [ 8605.36  8631.14]\n",
      " [24520.26 24342.37]\n",
      " [45710.21 46419.71]\n",
      " [15019.76 14942.04]\n",
      " [ 6664.69  6755.88]\n",
      " [20709.02 11399.09]\n",
      " [40932.43 45799.63]\n",
      " [ 9500.57  9141.93]]\n"
     ]
    }
   ],
   "source": [
    "y_pred = le.predict(x_test)\n",
    "np.set_printoptions(precision=2)\n",
    "print(np.concatenate( (y_test.reshape(len(x_test),1)  , y_pred.reshape(len(y_pred),1)),1  ))"
   ]
  }
 ],
 "metadata": {
  "interpreter": {
   "hash": "1f02020333df55c2cfbaa3f2ce359e474c4b99ea81662903a867d20f03dee8b5"
  },
  "kernelspec": {
   "display_name": "Python 3.8.10 64-bit ('myenv': venv)",
   "name": "python3"
  },
  "language_info": {
   "codemirror_mode": {
    "name": "ipython",
    "version": 3
   },
   "file_extension": ".py",
   "mimetype": "text/x-python",
   "name": "python",
   "nbconvert_exporter": "python",
   "pygments_lexer": "ipython3",
   "version": "3.8.10"
  },
  "orig_nbformat": 4
 },
 "nbformat": 4,
 "nbformat_minor": 2
}
